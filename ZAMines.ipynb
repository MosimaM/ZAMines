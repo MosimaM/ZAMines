{
 "cells": [
  {
   "cell_type": "markdown",
   "metadata": {},
   "source": [
    "#### Study of operating south african mines \n",
    "###### audience: investors, analysts, miners, researchers "
   ]
  },
  {
   "cell_type": "code",
   "execution_count": 10,
   "metadata": {},
   "outputs": [],
   "source": [
    "import pandas as pd\n",
    "import matplotlib.pyplot as plt\n",
    "import numpy as np"
   ]
  },
  {
   "cell_type": "code",
   "execution_count": 11,
   "metadata": {},
   "outputs": [
    {
     "data": {
      "text/html": [
       "<div>\n",
       "<style scoped>\n",
       "    .dataframe tbody tr th:only-of-type {\n",
       "        vertical-align: middle;\n",
       "    }\n",
       "\n",
       "    .dataframe tbody tr th {\n",
       "        vertical-align: top;\n",
       "    }\n",
       "\n",
       "    .dataframe thead th {\n",
       "        text-align: right;\n",
       "    }\n",
       "</style>\n",
       "<table border=\"1\" class=\"dataframe\">\n",
       "  <thead>\n",
       "    <tr style=\"text-align: right;\">\n",
       "      <th></th>\n",
       "      <th>MINE CODE</th>\n",
       "      <th>MINE NAME</th>\n",
       "      <th>MINE OWNER</th>\n",
       "      <th>POSTAL ADDRESS</th>\n",
       "      <th>TELEPHONE &amp; FAX NUMBER</th>\n",
       "      <th>MAGISTERIAL DISTRICT</th>\n",
       "      <th>PROVINCE</th>\n",
       "      <th>ENTITY &amp; MINING TYPE</th>\n",
       "      <th>COMMODITY</th>\n",
       "      <th>FARM NAMES</th>\n",
       "      <th>Unnamed: 10</th>\n",
       "      <th>Unnamed: 11</th>\n",
       "      <th>Unnamed: 12</th>\n",
       "    </tr>\n",
       "  </thead>\n",
       "  <tbody>\n",
       "    <tr>\n",
       "      <th>0</th>\n",
       "      <td>15814</td>\n",
       "      <td>420 ORGANIK                                   ...</td>\n",
       "      <td>WYNAND WILLEM SMIT                           ...</td>\n",
       "      <td>PO BOX 55285 SUNSET BEACH WESTERN CAPE  7435 ...</td>\n",
       "      <td>082 560 1283</td>\n",
       "      <td>VENTERSDORP</td>\n",
       "      <td>NORTH-WEST</td>\n",
       "      <td>MINE                                          ...</td>\n",
       "      <td>DIAMONDS ALLUVIAL                             ...</td>\n",
       "      <td>ROOIDRAAI 85 IQ VARIOUS                       ...</td>\n",
       "      <td>NaN</td>\n",
       "      <td>NaN</td>\n",
       "      <td>NaN</td>\n",
       "    </tr>\n",
       "    <tr>\n",
       "      <th>1</th>\n",
       "      <td>15754</td>\n",
       "      <td>A. P. OLIVIER DELWERY                         ...</td>\n",
       "      <td>ABRAHAM PAULUS OLIVIER                       ...</td>\n",
       "      <td>PO BOX 175 WOLMARANSSTAD   2630              ...</td>\n",
       "      <td>083 682 1880</td>\n",
       "      <td>WOLMARANSSTAD</td>\n",
       "      <td>NORTH-WEST</td>\n",
       "      <td>MINE                                          ...</td>\n",
       "      <td>DIAMONDS ALLUVIAL                             ...</td>\n",
       "      <td>SPIOENKOP 174 HO 1                            ...</td>\n",
       "      <td>NaN</td>\n",
       "      <td>NaN</td>\n",
       "      <td>NaN</td>\n",
       "    </tr>\n",
       "    <tr>\n",
       "      <th>2</th>\n",
       "      <td>15613</td>\n",
       "      <td>AAA MINING CC                                 ...</td>\n",
       "      <td>KARIBA MINERALS (PTY) LTD                    ...</td>\n",
       "      <td>PO BOX 1086 SCHWEIZER RENEKE   2780          ...</td>\n",
       "      <td>(053) 963 1081       087 231 7021</td>\n",
       "      <td>PHILIPSTOWN</td>\n",
       "      <td>NORTHERN CAPE</td>\n",
       "      <td>MINE                                          ...</td>\n",
       "      <td>DIAMONDS ALLUVIAL                             ...</td>\n",
       "      <td>DOOREN KUILEN 62  2                           ...</td>\n",
       "      <td>NaN</td>\n",
       "      <td>NaN</td>\n",
       "      <td>NaN</td>\n",
       "    </tr>\n",
       "    <tr>\n",
       "      <th>3</th>\n",
       "      <td>15307</td>\n",
       "      <td>AAA MINING CC - PROBEERFONTEIN                ...</td>\n",
       "      <td>DJ DU RAAN                                   ...</td>\n",
       "      <td>PO BOX 1086 SCHWEIZER-RENEKE   2780          ...</td>\n",
       "      <td>(053) 963 1081       087 231 7021</td>\n",
       "      <td>HOPETOWN</td>\n",
       "      <td>NORTHERN CAPE</td>\n",
       "      <td>MINE                                          ...</td>\n",
       "      <td>DIAMONDS ALLUVIAL                             ...</td>\n",
       "      <td>PROBEERFONTEIN 7                              ...</td>\n",
       "      <td>NaN</td>\n",
       "      <td>NaN</td>\n",
       "      <td>NaN</td>\n",
       "    </tr>\n",
       "    <tr>\n",
       "      <th>4</th>\n",
       "      <td>15699</td>\n",
       "      <td>ABRAHAM CAREL STRAUSS                         ...</td>\n",
       "      <td>ABRAHAM CAREL STRAUSS                        ...</td>\n",
       "      <td>PO BOX 1086 SCHWEIZER RENEKE   2780          ...</td>\n",
       "      <td>(053) 963 1081       087 231 7021</td>\n",
       "      <td>SCHWEIZER - RENEKE</td>\n",
       "      <td>NORTH-WEST</td>\n",
       "      <td>MINE                                          ...</td>\n",
       "      <td>DIAMONDS ALLUVIAL                             ...</td>\n",
       "      <td>KAMEELKUIL 88 HO 2 RE                         ...</td>\n",
       "      <td>NaN</td>\n",
       "      <td>NaN</td>\n",
       "      <td>NaN</td>\n",
       "    </tr>\n",
       "  </tbody>\n",
       "</table>\n",
       "</div>"
      ],
      "text/plain": [
       "   MINE CODE                                          MINE NAME  \\\n",
       "0      15814  420 ORGANIK                                   ...   \n",
       "1      15754  A. P. OLIVIER DELWERY                         ...   \n",
       "2      15613  AAA MINING CC                                 ...   \n",
       "3      15307  AAA MINING CC - PROBEERFONTEIN                ...   \n",
       "4      15699  ABRAHAM CAREL STRAUSS                         ...   \n",
       "\n",
       "                                          MINE OWNER  \\\n",
       "0   WYNAND WILLEM SMIT                           ...   \n",
       "1   ABRAHAM PAULUS OLIVIER                       ...   \n",
       "2   KARIBA MINERALS (PTY) LTD                    ...   \n",
       "3   DJ DU RAAN                                   ...   \n",
       "4   ABRAHAM CAREL STRAUSS                        ...   \n",
       "\n",
       "                                      POSTAL ADDRESS  \\\n",
       "0   PO BOX 55285 SUNSET BEACH WESTERN CAPE  7435 ...   \n",
       "1   PO BOX 175 WOLMARANSSTAD   2630              ...   \n",
       "2   PO BOX 1086 SCHWEIZER RENEKE   2780          ...   \n",
       "3   PO BOX 1086 SCHWEIZER-RENEKE   2780          ...   \n",
       "4   PO BOX 1086 SCHWEIZER RENEKE   2780          ...   \n",
       "\n",
       "                 TELEPHONE & FAX NUMBER MAGISTERIAL DISTRICT       PROVINCE  \\\n",
       "0  082 560 1283                                  VENTERSDORP     NORTH-WEST   \n",
       "1  083 682 1880                                WOLMARANSSTAD     NORTH-WEST   \n",
       "2  (053) 963 1081       087 231 7021             PHILIPSTOWN  NORTHERN CAPE   \n",
       "3  (053) 963 1081       087 231 7021                HOPETOWN  NORTHERN CAPE   \n",
       "4  (053) 963 1081       087 231 7021      SCHWEIZER - RENEKE     NORTH-WEST   \n",
       "\n",
       "                                ENTITY & MINING TYPE  \\\n",
       "0  MINE                                          ...   \n",
       "1  MINE                                          ...   \n",
       "2  MINE                                          ...   \n",
       "3  MINE                                          ...   \n",
       "4  MINE                                          ...   \n",
       "\n",
       "                                           COMMODITY  \\\n",
       "0  DIAMONDS ALLUVIAL                             ...   \n",
       "1  DIAMONDS ALLUVIAL                             ...   \n",
       "2  DIAMONDS ALLUVIAL                             ...   \n",
       "3  DIAMONDS ALLUVIAL                             ...   \n",
       "4  DIAMONDS ALLUVIAL                             ...   \n",
       "\n",
       "                                          FARM NAMES  Unnamed: 10  \\\n",
       "0  ROOIDRAAI 85 IQ VARIOUS                       ...          NaN   \n",
       "1  SPIOENKOP 174 HO 1                            ...          NaN   \n",
       "2  DOOREN KUILEN 62  2                           ...          NaN   \n",
       "3  PROBEERFONTEIN 7                              ...          NaN   \n",
       "4  KAMEELKUIL 88 HO 2 RE                         ...          NaN   \n",
       "\n",
       "   Unnamed: 11  Unnamed: 12  \n",
       "0          NaN          NaN  \n",
       "1          NaN          NaN  \n",
       "2          NaN          NaN  \n",
       "3          NaN          NaN  \n",
       "4          NaN          NaN  "
      ]
     },
     "execution_count": 11,
     "metadata": {},
     "output_type": "execute_result"
    }
   ],
   "source": [
    "dmr_mines = pd.read_csv('/Users/mosimamatlhwana/Programming/ZAMines/Operating mines/Operating Mines - Quarries and Mineral Processing Plants in the RSA.csv', sep=';')\n",
    "dmr_mines.head()"
   ]
  },
  {
   "cell_type": "code",
   "execution_count": 12,
   "metadata": {},
   "outputs": [
    {
     "data": {
      "text/plain": [
       "Index(['MINE CODE', 'MINE NAME', 'MINE OWNER', 'POSTAL ADDRESS',\n",
       "       'TELEPHONE & FAX NUMBER', 'MAGISTERIAL DISTRICT', 'PROVINCE',\n",
       "       'ENTITY & MINING TYPE', 'COMMODITY', 'FARM NAMES', 'Unnamed: 10',\n",
       "       'Unnamed: 11', 'Unnamed: 12'],\n",
       "      dtype='object')"
      ]
     },
     "execution_count": 12,
     "metadata": {},
     "output_type": "execute_result"
    }
   ],
   "source": [
    "dmr_mines.columns"
   ]
  },
  {
   "cell_type": "code",
   "execution_count": 13,
   "metadata": {},
   "outputs": [
    {
     "data": {
      "text/html": [
       "<div>\n",
       "<style scoped>\n",
       "    .dataframe tbody tr th:only-of-type {\n",
       "        vertical-align: middle;\n",
       "    }\n",
       "\n",
       "    .dataframe tbody tr th {\n",
       "        vertical-align: top;\n",
       "    }\n",
       "\n",
       "    .dataframe thead th {\n",
       "        text-align: right;\n",
       "    }\n",
       "</style>\n",
       "<table border=\"1\" class=\"dataframe\">\n",
       "  <thead>\n",
       "    <tr style=\"text-align: right;\">\n",
       "      <th></th>\n",
       "      <th>PROVINCE</th>\n",
       "      <th>ENTITY &amp; MINING TYPE</th>\n",
       "      <th>COMMODITY</th>\n",
       "    </tr>\n",
       "  </thead>\n",
       "  <tbody>\n",
       "    <tr>\n",
       "      <th>count</th>\n",
       "      <td>2065</td>\n",
       "      <td>2065</td>\n",
       "      <td>2065</td>\n",
       "    </tr>\n",
       "    <tr>\n",
       "      <th>unique</th>\n",
       "      <td>9</td>\n",
       "      <td>22</td>\n",
       "      <td>259</td>\n",
       "    </tr>\n",
       "    <tr>\n",
       "      <th>top</th>\n",
       "      <td>NORTH-WEST</td>\n",
       "      <td>MINE                                          ...</td>\n",
       "      <td>DIAMONDS ALLUVIAL                             ...</td>\n",
       "    </tr>\n",
       "    <tr>\n",
       "      <th>freq</th>\n",
       "      <td>439</td>\n",
       "      <td>1672</td>\n",
       "      <td>451</td>\n",
       "    </tr>\n",
       "  </tbody>\n",
       "</table>\n",
       "</div>"
      ],
      "text/plain": [
       "          PROVINCE                               ENTITY & MINING TYPE  \\\n",
       "count         2065                                               2065   \n",
       "unique           9                                                 22   \n",
       "top     NORTH-WEST  MINE                                          ...   \n",
       "freq           439                                               1672   \n",
       "\n",
       "                                                COMMODITY  \n",
       "count                                                2065  \n",
       "unique                                                259  \n",
       "top     DIAMONDS ALLUVIAL                             ...  \n",
       "freq                                                  451  "
      ]
     },
     "execution_count": 13,
     "metadata": {},
     "output_type": "execute_result"
    }
   ],
   "source": [
    "data = dmr_mines[['PROVINCE', 'ENTITY & MINING TYPE', 'COMMODITY']]\n",
    "data.head()\n",
    "data.describe()"
   ]
  },
  {
   "cell_type": "code",
   "execution_count": 14,
   "metadata": {},
   "outputs": [
    {
     "data": {
      "text/html": [
       "<div>\n",
       "<style scoped>\n",
       "    .dataframe tbody tr th:only-of-type {\n",
       "        vertical-align: middle;\n",
       "    }\n",
       "\n",
       "    .dataframe tbody tr th {\n",
       "        vertical-align: top;\n",
       "    }\n",
       "\n",
       "    .dataframe thead th {\n",
       "        text-align: right;\n",
       "    }\n",
       "</style>\n",
       "<table border=\"1\" class=\"dataframe\">\n",
       "  <thead>\n",
       "    <tr style=\"text-align: right;\">\n",
       "      <th></th>\n",
       "      <th>PROVINCE</th>\n",
       "    </tr>\n",
       "  </thead>\n",
       "  <tbody>\n",
       "    <tr>\n",
       "      <th>NORTH-WEST</th>\n",
       "      <td>439</td>\n",
       "    </tr>\n",
       "    <tr>\n",
       "      <th>NORTHERN CAPE</th>\n",
       "      <td>362</td>\n",
       "    </tr>\n",
       "    <tr>\n",
       "      <th>MPUMALANGA</th>\n",
       "      <td>276</td>\n",
       "    </tr>\n",
       "    <tr>\n",
       "      <th>EASTERN CAPE</th>\n",
       "      <td>206</td>\n",
       "    </tr>\n",
       "    <tr>\n",
       "      <th>WESTERN CAPE</th>\n",
       "      <td>200</td>\n",
       "    </tr>\n",
       "    <tr>\n",
       "      <th>GAUTENG</th>\n",
       "      <td>193</td>\n",
       "    </tr>\n",
       "    <tr>\n",
       "      <th>LIMPOPO</th>\n",
       "      <td>155</td>\n",
       "    </tr>\n",
       "    <tr>\n",
       "      <th>KWA-ZULU NATAL</th>\n",
       "      <td>152</td>\n",
       "    </tr>\n",
       "    <tr>\n",
       "      <th>FREE STATE</th>\n",
       "      <td>82</td>\n",
       "    </tr>\n",
       "  </tbody>\n",
       "</table>\n",
       "</div>"
      ],
      "text/plain": [
       "                PROVINCE\n",
       "NORTH-WEST           439\n",
       "NORTHERN CAPE        362\n",
       "MPUMALANGA           276\n",
       "EASTERN CAPE         206\n",
       "WESTERN CAPE         200\n",
       "GAUTENG              193\n",
       "LIMPOPO              155\n",
       "KWA-ZULU NATAL       152\n",
       "FREE STATE            82"
      ]
     },
     "execution_count": 14,
     "metadata": {},
     "output_type": "execute_result"
    }
   ],
   "source": [
    "Districts = data['PROVINCE'].value_counts().to_frame()\n",
    "Districts"
   ]
  },
  {
   "cell_type": "code",
   "execution_count": 12,
   "metadata": {},
   "outputs": [
    {
     "data": {
      "text/plain": [
       "pandas.core.frame.DataFrame"
      ]
     },
     "execution_count": 12,
     "metadata": {},
     "output_type": "execute_result"
    }
   ],
   "source": [
    "type(Districts)"
   ]
  },
  {
   "cell_type": "code",
   "execution_count": 16,
   "metadata": {},
   "outputs": [
    {
     "data": {
      "image/png": "[encoded data removed]",
      "text/plain": [
       "<Figure size 640x480 with 1 Axes>"
      ]
     },
     "metadata": {},
     "output_type": "display_data"
    }
   ],
   "source": [
    "Districts.plot(kind='bar')\n",
    "plt.xlabel('Value')\n",
    "plt.ylabel('Count')\n",
    "plt.title('Distribution of mines in SA provinces')\n",
    "plt.show()"
   ]
  }
 ],
 "metadata": {
  "kernelspec": {
   "display_name": "venv",
   "language": "python",
   "name": "python3"
  },
  "language_info": {
   "codemirror_mode": {
    "name": "ipython",
    "version": 3
   },
   "file_extension": ".py",
   "mimetype": "text/x-python",
   "name": "python",
   "nbconvert_exporter": "python",
   "pygments_lexer": "ipython3",
   "version": "3.9.13"
  }
 },
 "nbformat": 4,
 "nbformat_minor": 2
}
